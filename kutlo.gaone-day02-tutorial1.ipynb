{
 "cells": [
  {
   "cell_type": "markdown",
   "id": "426486dd",
   "metadata": {
    "id": "426486dd"
   },
   "source": [
    "\n",
    "\n",
    "# Practical_1: Variables and Assignments"
   ]
  },
  {
   "cell_type": "markdown",
   "id": "e4a5136d-e4d2-4bbe-8eaf-974a7d47117b",
   "metadata": {
    "id": "9fb19f0d"
   },
   "source": []
  },
  {
   "cell_type": "markdown",
   "id": "a8fc44c1-fd75-4707-9b07-7ef4e845db06",
   "metadata": {
    "id": "9fb19f0d"
   },
   "source": [
    "----\n",
    "\n",
    "### Exercise 1:\n",
    "Declare a variable `x` and assign it the value `10`.\n",
    "\n",
    "```python\n",
    "# Exercise 1\n",
    "```"
   ]
  },
  {
   "cell_type": "code",
   "execution_count": 10,
   "id": "23e4ec13-16da-495a-b1f6-99c5e82eca56",
   "metadata": {},
   "outputs": [
    {
     "data": {
      "text/plain": [
       "int"
      ]
     },
     "execution_count": 10,
     "metadata": {},
     "output_type": "execute_result"
    }
   ],
   "source": [
    "x = 10\n",
    "type(x)"
   ]
  },
  {
   "cell_type": "markdown",
   "id": "aad4ac95-aff8-4fd5-ab00-19fcc684af22",
   "metadata": {
    "id": "9fb19f0d"
   },
   "source": [
    "---\n",
    "\n",
    "### Exercise 2:\n",
    "Assign the value `True` to a variable called `is_valid`.\n",
    "\n",
    "```python\n",
    "# Exercise 2\n",
    "```"
   ]
  },
  {
   "cell_type": "code",
   "execution_count": 11,
   "id": "e40c7a8b-bd99-4e12-a4fe-69846c0cf510",
   "metadata": {},
   "outputs": [
    {
     "data": {
      "text/plain": [
       "bool"
      ]
     },
     "execution_count": 11,
     "metadata": {},
     "output_type": "execute_result"
    }
   ],
   "source": [
    "is_valid = True\n",
    "type(is_valid)"
   ]
  },
  {
   "cell_type": "markdown",
   "id": "f79d521f-df18-4cbd-9c90-d4147178f111",
   "metadata": {
    "id": "9fb19f0d"
   },
   "source": [
    "---\n",
    "\n",
    "### Exercise 3:\n",
    "Create a string variable `name` with the value \"Python Programming\".\n",
    "\n",
    "```python\n",
    "# Exercise 3\n",
    "```"
   ]
  },
  {
   "cell_type": "code",
   "execution_count": 12,
   "id": "1d3241a0-124c-4a16-94c0-9739b10fdcab",
   "metadata": {},
   "outputs": [
    {
     "data": {
      "text/plain": [
       "str"
      ]
     },
     "execution_count": 12,
     "metadata": {},
     "output_type": "execute_result"
    }
   ],
   "source": [
    "name = \"Python Programming\"\n",
    "type(name)"
   ]
  },
  {
   "cell_type": "markdown",
   "id": "4678b15d-9e6f-409a-8b3f-11ebe843fc5a",
   "metadata": {
    "id": "9fb19f0d"
   },
   "source": [
    "---\n",
    "\n",
    "### Exercise 4:\n",
    "Assign the result of `5 + 3` to a variable `sum_result`.\n",
    "\n",
    "```python\n",
    "# Exercise 4\n",
    "```"
   ]
  },
  {
   "cell_type": "code",
   "execution_count": 13,
   "id": "973bd632-1721-4c58-bdb2-849d792ea037",
   "metadata": {},
   "outputs": [
    {
     "name": "stdout",
     "output_type": "stream",
     "text": [
      "8\n"
     ]
    },
    {
     "data": {
      "text/plain": [
       "int"
      ]
     },
     "execution_count": 13,
     "metadata": {},
     "output_type": "execute_result"
    }
   ],
   "source": [
    "sum_result = 5 + 3\n",
    "print(sum_result)\n",
    "type(sum_result)"
   ]
  },
  {
   "cell_type": "markdown",
   "id": "563a76b3-e652-4e55-9077-985d364bbd8e",
   "metadata": {
    "id": "9fb19f0d"
   },
   "source": [
    "---\n",
    "\n",
    "### Exercise 5:\n",
    "Assign multiple variables in one line: `a = 5`, `b = 10`, `c = 15`.\n",
    "\n",
    "```python\n",
    "# Exercise 5\n",
    "```"
   ]
  },
  {
   "cell_type": "code",
   "execution_count": 15,
   "id": "69483deb-e128-4ad3-b613-07ea315bc378",
   "metadata": {},
   "outputs": [
    {
     "name": "stdout",
     "output_type": "stream",
     "text": [
      "5 10 15\n",
      "<class 'int'>\n",
      "<class 'int'>\n",
      "<class 'int'>\n"
     ]
    }
   ],
   "source": [
    "a,b,c = 5, 10, 15\n",
    "print(a,b,c)\n",
    "print(type(a))\n",
    "print(type(b))\n",
    "print(type(c))"
   ]
  },
  {
   "cell_type": "markdown",
   "id": "1cc79ec4-b9e0-4527-abe1-7e3d6a262d38",
   "metadata": {
    "id": "9fb19f0d"
   },
   "source": [
    "---\n",
    "\n",
    "### Exercise 6:\n",
    "Assign the value of one variable `x` to another variable `y`.\n",
    "\n",
    "```python\n",
    "# Exercise 6\n",
    "```"
   ]
  },
  {
   "cell_type": "code",
   "execution_count": 9,
   "id": "09288f7f-4357-4e8a-a244-4eb9d0898f28",
   "metadata": {},
   "outputs": [
    {
     "name": "stdout",
     "output_type": "stream",
     "text": [
      "9 9\n"
     ]
    }
   ],
   "source": [
    "x = y = 9\n",
    "print(x,y)"
   ]
  },
  {
   "cell_type": "markdown",
   "id": "f39dba80-61d0-45a2-a63a-93c09d5dd510",
   "metadata": {
    "id": "9fb19f0d"
   },
   "source": [
    "---\n",
    "\n",
    "### Exercise 7:\n",
    "Assign a floating-point number `9.8` to a variable `gravity`.\n",
    "\n",
    "```python\n",
    "# Exercise 7\n",
    "```"
   ]
  },
  {
   "cell_type": "code",
   "execution_count": 16,
   "id": "f6e77d00-1be6-4c05-bab3-68f4e6f3b9d2",
   "metadata": {},
   "outputs": [
    {
     "data": {
      "text/plain": [
       "float"
      ]
     },
     "execution_count": 16,
     "metadata": {},
     "output_type": "execute_result"
    }
   ],
   "source": [
    "gravity = 9.8\n",
    "type(gravity)"
   ]
  },
  {
   "cell_type": "markdown",
   "id": "e992da98-313c-4b7c-a48c-e21df53fd6d1",
   "metadata": {
    "id": "9fb19f0d"
   },
   "source": [
    "---\n",
    "\n",
    "### Exercise 8:\n",
    "Create a variable `country` and assign it the string value of your favorite country.\n",
    "\n",
    "```python\n",
    "# Exercise 8\n",
    "```"
   ]
  },
  {
   "cell_type": "code",
   "execution_count": 17,
   "id": "c86541b7-d0db-4a52-a78f-34e62a0e51d8",
   "metadata": {},
   "outputs": [
    {
     "name": "stdout",
     "output_type": "stream",
     "text": [
      "Botswana <class 'str'>\n"
     ]
    }
   ],
   "source": [
    "country = \"Botswana\"\n",
    "print(country, type(country))"
   ]
  },
  {
   "cell_type": "markdown",
   "id": "6401a2df-e88b-4882-819d-c2b2b68c1b64",
   "metadata": {
    "id": "9fb19f0d"
   },
   "source": [
    "---\n",
    "\n",
    "### Exercise 9:\n",
    "Change the value of variable `age` from `25` to `26` in two separate steps.\n",
    "\n",
    "```python\n",
    "# Exercise 9\n",
    "```"
   ]
  },
  {
   "cell_type": "code",
   "execution_count": 21,
   "id": "608f8969-6297-4124-8e7d-d30a716ef561",
   "metadata": {},
   "outputs": [
    {
     "name": "stdout",
     "output_type": "stream",
     "text": [
      "25\n",
      "26\n"
     ]
    },
    {
     "data": {
      "text/plain": [
       "int"
      ]
     },
     "execution_count": 21,
     "metadata": {},
     "output_type": "execute_result"
    }
   ],
   "source": [
    "age = 25\n",
    "print(age)\n",
    "age = 26\n",
    "print(age)\n",
    "type(age)\n",
    "\n",
    "#age = 25; age =26\n",
    "#print(age)"
   ]
  },
  {
   "cell_type": "markdown",
   "id": "24d4b088-c9ae-4648-bff9-72a7dbd08ade",
   "metadata": {
    "id": "9fb19f0d"
   },
   "source": [
    "---\n",
    "\n",
    "### Exercise 10:\n",
    "Use one variable to store the result of subtracting two numbers `20 - 7`.\n",
    "\n",
    "```python\n",
    "# Exercise 10\n",
    "```"
   ]
  },
  {
   "cell_type": "code",
   "execution_count": 22,
   "id": "a7f707c3-a85c-43b2-a638-cbc69aaba11c",
   "metadata": {},
   "outputs": [
    {
     "name": "stdout",
     "output_type": "stream",
     "text": [
      "13\n"
     ]
    }
   ],
   "source": [
    "sub = 20 - 7\n",
    "print(sub)"
   ]
  },
  {
   "cell_type": "markdown",
   "id": "677ba67d-fa19-42a7-93b2-81df565cdf00",
   "metadata": {
    "id": "9fb19f0d"
   },
   "source": [
    "---\n",
    "\n",
    "### Exercise 11:\n",
    "Assign an integer value and a floating-point value to two different variables.\n",
    "\n",
    "```python\n",
    "# Exercise 11\n",
    "```"
   ]
  },
  {
   "cell_type": "code",
   "execution_count": 24,
   "id": "1789647e-e4f8-4fad-b07b-b8a0a962b085",
   "metadata": {},
   "outputs": [
    {
     "name": "stdout",
     "output_type": "stream",
     "text": [
      "6 3.4 <class 'int'> <class 'float'>\n"
     ]
    }
   ],
   "source": [
    "int_val = 6\n",
    "flo_val = 3.4\n",
    "print(int_val, flo_val, type(int_val), type(flo_val))"
   ]
  },
  {
   "cell_type": "markdown",
   "id": "4a0f7aed-5b0c-4e88-acfa-650d6385db4c",
   "metadata": {
    "id": "9fb19f0d"
   },
   "source": [
    "---\n",
    "\n",
    "### Exercise 12:\n",
    "Assign a boolean value `False` to a variable `is_completed`.\n",
    "\n",
    "```python\n",
    "# Exercise 12\n",
    "```"
   ]
  },
  {
   "cell_type": "code",
   "execution_count": 25,
   "id": "646231dd-1d06-4ede-848b-cfcb4ab4113d",
   "metadata": {},
   "outputs": [
    {
     "name": "stdout",
     "output_type": "stream",
     "text": [
      "False <class 'bool'>\n"
     ]
    }
   ],
   "source": [
    "is_completed = False\n",
    "print(is_completed, type(is_completed))"
   ]
  },
  {
   "cell_type": "markdown",
   "id": "dc5f15c1-55c9-4f6c-a566-1cdd015508c0",
   "metadata": {
    "id": "9fb19f0d"
   },
   "source": [
    "---\n",
    "\n",
    "### Exercise 13:\n",
    "Swap the values of two variables `x` and `y`.\n",
    "\n",
    "```python\n",
    "# Exercise 13\n",
    "```"
   ]
  },
  {
   "cell_type": "code",
   "execution_count": 28,
   "id": "e34cfca4-80f8-4180-8c54-e393f75d9225",
   "metadata": {},
   "outputs": [
    {
     "name": "stdout",
     "output_type": "stream",
     "text": [
      "x = 7 , y = 5\n"
     ]
    }
   ],
   "source": [
    "x = 5\n",
    "y = 7\n",
    "x,y = y, x\n",
    "print(\"x =\", x, \", y =\", y)"
   ]
  },
  {
   "cell_type": "markdown",
   "id": "3765613e-3029-4802-b58c-c076828fa9cb",
   "metadata": {
    "id": "9fb19f0d"
   },
   "source": [
    "---\n",
    "\n",
    "### Exercise 14:\n",
    "Assign a complex number `3 + 4j` to a variable `complex_num`.\n",
    "\n",
    "```python\n",
    "# Exercise 14\n",
    "```"
   ]
  },
  {
   "cell_type": "code",
   "execution_count": 29,
   "id": "957e32a8-2a18-4f7b-bd44-2e27cdfae80d",
   "metadata": {},
   "outputs": [
    {
     "name": "stdout",
     "output_type": "stream",
     "text": [
      "(3+4j) <class 'complex'>\n"
     ]
    }
   ],
   "source": [
    "complex_num = 3 + 4j\n",
    "print(complex_num, type(complex_num))"
   ]
  },
  {
   "cell_type": "markdown",
   "id": "26b160cd-4024-4b2f-b6c6-cea1e920030b",
   "metadata": {
    "id": "9fb19f0d"
   },
   "source": [
    "---\n",
    "\n",
    "### Exercise 15:\n",
    "Reassign a variable from an integer to a string.\n",
    "\n",
    "```python\n",
    "# Exercise 15\n",
    "```"
   ]
  },
  {
   "cell_type": "code",
   "execution_count": 31,
   "id": "5c87bcc8-2d0a-4875-b118-980e54a456a1",
   "metadata": {},
   "outputs": [
    {
     "name": "stdout",
     "output_type": "stream",
     "text": [
      "99 <class 'int'>\n",
      "99 <class 'str'>\n"
     ]
    }
   ],
   "source": [
    "val = 99\n",
    "print(val, type(val))\n",
    "val = str(val)\n",
    "print(val, type(val))"
   ]
  },
  {
   "cell_type": "markdown",
   "id": "7e95c557-c3c4-4333-907d-bbc9b589850b",
   "metadata": {
    "id": "9fb19f0d"
   },
   "source": [
    "---\n",
    "\n",
    "### Exercise 16:\n",
    "Create two variables `first_name` and `last_name`, and assign them your first and last names.\n",
    "\n",
    "```python\n",
    "# Exercise 16\n",
    "```"
   ]
  },
  {
   "cell_type": "code",
   "execution_count": 34,
   "id": "1b99135e-ddf3-4beb-82eb-5a78eccd4a68",
   "metadata": {},
   "outputs": [
    {
     "name": "stdout",
     "output_type": "stream",
     "text": [
      "Kutlo Kejang\n"
     ]
    }
   ],
   "source": [
    "first_name = \"Kutlo\"\n",
    "last_name = \"Kejang\"\n",
    "print(first_name + \" \" + last_name)"
   ]
  },
  {
   "cell_type": "markdown",
   "id": "b6ef70a9-7dca-4a7f-b7ec-42e8b639f223",
   "metadata": {
    "id": "9fb19f0d"
   },
   "source": [
    "---\n",
    "\n",
    "### Exercise 17:\n",
    "Create a variable `temperature` and assign it the value of `35.5`.\n",
    "\n",
    "```python\n",
    "# Exercise 17\n",
    "```"
   ]
  },
  {
   "cell_type": "code",
   "execution_count": 35,
   "id": "a307bb04-2065-4ab7-91e0-bfc4c648f70b",
   "metadata": {},
   "outputs": [
    {
     "name": "stdout",
     "output_type": "stream",
     "text": [
      "35.5 <class 'float'>\n"
     ]
    }
   ],
   "source": [
    "temperature = 35.5\n",
    "print(temperature, type(temperature))"
   ]
  },
  {
   "cell_type": "markdown",
   "id": "f6cfee22-ded4-404a-81ae-9ad5811123e9",
   "metadata": {
    "id": "9fb19f0d"
   },
   "source": [
    "---\n",
    "\n",
    "### Exercise 18:\n",
    "Assign the result of the multiplication of two numbers `8 * 6` to a variable `product`.\n",
    "\n",
    "```python\n",
    "# Exercise 18\n",
    "```"
   ]
  },
  {
   "cell_type": "code",
   "execution_count": 36,
   "id": "ea5c53e2-e3a1-4ffd-871c-1c8ff80f61a7",
   "metadata": {},
   "outputs": [
    {
     "name": "stdout",
     "output_type": "stream",
     "text": [
      "48 <class 'int'>\n"
     ]
    }
   ],
   "source": [
    "product = 8*6\n",
    "print(product, type(product))"
   ]
  },
  {
   "cell_type": "markdown",
   "id": "6db4d86f-d516-4738-b7ab-daf2f26d7e67",
   "metadata": {
    "id": "9fb19f0d"
   },
   "source": [
    "---\n",
    "\n",
    "### Exercise 19:\n",
    "Assign a sentence of your choice to a variable `sentence`.\n",
    "\n",
    "```python\n",
    "# Exercise 19\n",
    "```"
   ]
  },
  {
   "cell_type": "code",
   "execution_count": 40,
   "id": "444ce9dc-6ca0-4fd8-a529-1dcab5e27063",
   "metadata": {},
   "outputs": [
    {
     "name": "stdin",
     "output_type": "stream",
     "text": [
      "Hey there, darling! \n",
      "How are you doing? Very well, thank you!\n"
     ]
    }
   ],
   "source": [
    "sentence = input(\"Hey there, darling! \\nHow are you doing?\")"
   ]
  },
  {
   "cell_type": "markdown",
   "id": "d3f8133e-24cf-488c-8400-d30236cf9f0a",
   "metadata": {
    "id": "9fb19f0d"
   },
   "source": [
    "---\n",
    "\n",
    "### Exercise 20:\n",
    "Use an assignment to convert a string `'50'` into an integer variable `int_value`.\n",
    "\n",
    "```python\n",
    "# Exercise 20\n",
    "```"
   ]
  },
  {
   "cell_type": "code",
   "execution_count": 43,
   "id": "d1d1c9fb-b6b6-4212-a003-fb2357463d9e",
   "metadata": {},
   "outputs": [
    {
     "name": "stdout",
     "output_type": "stream",
     "text": [
      "50 <class 'str'>\n",
      "50 <class 'int'>\n"
     ]
    }
   ],
   "source": [
    "fifty = '50'\n",
    "print(fifty, type(fifty))\n",
    "int_value = int(fifty)\n",
    "print(int_value, type(int_value))"
   ]
  },
  {
   "cell_type": "markdown",
   "id": "8b335f5d-48f0-445b-9ba6-002aea107b46",
   "metadata": {
    "id": "9fb19f0d"
   },
   "source": [
    "---\n",
    "\n",
    "### Exercise 21:\n",
    "Assign the result of dividing `144` by `12` to a variable `quotient`.\n",
    "\n",
    "```python\n",
    "# Exercise 21\n",
    "```"
   ]
  },
  {
   "cell_type": "code",
   "execution_count": 51,
   "id": "5b933c6e-af99-443a-aac8-9ab5323cb885",
   "metadata": {},
   "outputs": [
    {
     "name": "stdout",
     "output_type": "stream",
     "text": [
      "12.0\n"
     ]
    }
   ],
   "source": [
    "quotient = 144 / 12 #Returns a float\n",
    "#quotient = 144 // 12 # Gives integer output / floor division\n",
    "print(quotient)"
   ]
  },
  {
   "cell_type": "markdown",
   "id": "12e49606-3b84-40b8-93e8-3042eec0af0f",
   "metadata": {
    "id": "9fb19f0d"
   },
   "source": [
    "---\n",
    "\n",
    "### Exercise 22:\n",
    "Assign the remainder of `47 divided by 5` to a variable `remainder`.\n",
    "\n",
    "```python\n",
    "# Exercise 22\n",
    "```"
   ]
  },
  {
   "cell_type": "code",
   "execution_count": 56,
   "id": "e9103fae-5a2e-439c-a5bb-bb7666b56bee",
   "metadata": {},
   "outputs": [
    {
     "name": "stdout",
     "output_type": "stream",
     "text": [
      "2.0 <class 'float'>\n"
     ]
    }
   ],
   "source": [
    "remainder = float(47 % 5) #Not double %% # Added the float to make it a float but without it, it always returns an integer.\n",
    "print(remainder, type(remainder))"
   ]
  },
  {
   "cell_type": "markdown",
   "id": "607c8934-4dcd-4ab3-bde4-f2026fe11616",
   "metadata": {
    "id": "9fb19f0d"
   },
   "source": [
    "---\n",
    "\n",
    "### Exercise 23:\n",
    "Create a variable `is_student` and assign it the value `True`.\n",
    "\n",
    "```python\n",
    "# Exercise 23\n",
    "```"
   ]
  },
  {
   "cell_type": "code",
   "execution_count": 57,
   "id": "1f0eb4e6-94c3-4f36-8acb-a646fed53dd3",
   "metadata": {},
   "outputs": [
    {
     "name": "stdout",
     "output_type": "stream",
     "text": [
      "True <class 'bool'>\n"
     ]
    }
   ],
   "source": [
    "is_student = True\n",
    "print(is_student, type(is_student))"
   ]
  },
  {
   "cell_type": "markdown",
   "id": "c647857e-5d8f-4e21-9f3b-7c4ae5909c3e",
   "metadata": {
    "id": "9fb19f0d"
   },
   "source": [
    "---\n",
    "\n",
    "### Exercise 24:\n",
    "Use a variable to store the result of a modulo operation: `45 % 4`.\n",
    "\n",
    "```python\n",
    "# Exercise 24\n",
    "```"
   ]
  },
  {
   "cell_type": "code",
   "execution_count": 59,
   "id": "6ebb5c2f-7fd4-46fa-93bd-95fefb5ea2a0",
   "metadata": {},
   "outputs": [
    {
     "name": "stdout",
     "output_type": "stream",
     "text": [
      "1 <class 'int'>\n"
     ]
    }
   ],
   "source": [
    "rem = 45 % 4\n",
    "print(rem, type(rem))"
   ]
  },
  {
   "cell_type": "markdown",
   "id": "87ee55a2-ac3f-449c-9ee8-040eedb4157f",
   "metadata": {
    "id": "9fb19f0d"
   },
   "source": [
    "---\n",
    "\n",
    "### Exercise 25:\n",
    "Create a variable `pi` and assign it the value `3.14159`.\n",
    "\n",
    "```python\n",
    "# Exercise 25\n",
    "```"
   ]
  },
  {
   "cell_type": "code",
   "execution_count": 60,
   "id": "3efbd000-0a0c-4cff-a63b-ca7b3db5c25e",
   "metadata": {},
   "outputs": [
    {
     "name": "stdout",
     "output_type": "stream",
     "text": [
      "3.14159 <class 'float'>\n"
     ]
    }
   ],
   "source": [
    "pi = 3.14159\n",
    "print(pi, type(pi))"
   ]
  },
  {
   "cell_type": "markdown",
   "id": "e7a0c916-ea71-4bff-94ba-321122a07c4b",
   "metadata": {
    "id": "9fb19f0d"
   },
   "source": [
    "---\n",
    "\n",
    "### Exercise 26:\n",
    "Create two variables `length` and `width`, assign them values, and calculate the area of a rectangle.\n",
    "\n",
    "```python\n",
    "# Exercise 26\n",
    "```"
   ]
  },
  {
   "cell_type": "code",
   "execution_count": 62,
   "id": "ce71a231-3ab0-4551-acd5-f8c0d2a5b204",
   "metadata": {},
   "outputs": [
    {
     "name": "stdout",
     "output_type": "stream",
     "text": [
      "The area of a rectangle with length 3.5 and width 2 is 7.0\n"
     ]
    }
   ],
   "source": [
    "length = 3.5\n",
    "width = 2\n",
    "area = length * width\n",
    "print(\"The area of a rectangle with length\", length, \"and width\", width, \"is\", area)"
   ]
  },
  {
   "cell_type": "markdown",
   "id": "7781f23c-ba2c-44c4-abc0-c28613ddf8bd",
   "metadata": {
    "id": "9fb19f0d"
   },
   "source": [
    "---\n",
    "\n",
    "### Exercise 27:\n",
    "Assign a negative number to a variable `negative_value`.\n",
    "\n",
    "```python\n",
    "# Exercise 27\n",
    "```"
   ]
  },
  {
   "cell_type": "code",
   "execution_count": 63,
   "id": "7010bbf4-40e6-44ce-ac31-307ff551d89a",
   "metadata": {},
   "outputs": [
    {
     "name": "stdout",
     "output_type": "stream",
     "text": [
      "-6 <class 'int'>\n"
     ]
    }
   ],
   "source": [
    "negative_value = -6\n",
    "print(negative_value, type(negative_value))"
   ]
  },
  {
   "cell_type": "markdown",
   "id": "83d2c70f-ecb3-4454-bfd6-123780487459",
   "metadata": {
    "id": "9fb19f0d"
   },
   "source": [
    "---\n",
    "\n",
    "### Exercise 28:\n",
    "Assign a string containing a special character (e.g., \"Hello, World!\") to a variable `greeting`.\n",
    "\n",
    "```python\n",
    "# Exercise 28\n",
    "```"
   ]
  },
  {
   "cell_type": "code",
   "execution_count": 71,
   "id": "d0cb0c50-64d9-48f0-847b-acc38fe50a0e",
   "metadata": {},
   "outputs": [
    {
     "name": "stdout",
     "output_type": "stream",
     "text": [
      "Hello, world!\n"
     ]
    },
    {
     "name": "stdin",
     "output_type": "stream",
     "text": [
      "Please enter your name:  Jay!\n"
     ]
    },
    {
     "name": "stdout",
     "output_type": "stream",
     "text": [
      "Hello, Jay!\n"
     ]
    }
   ],
   "source": [
    "greeting = \"Hello, world!\"\n",
    "print(greeting)\n",
    "name = input(\"Please enter your name: \")\n",
    "print(\"Hello,\", name)"
   ]
  },
  {
   "cell_type": "markdown",
   "id": "cc0f129f-bd0a-423f-90d7-64fa2dc661bc",
   "metadata": {
    "id": "9fb19f0d"
   },
   "source": [
    "---\n",
    "\n",
    "### Exercise 29:\n",
    "Create a variable `population` and assign it a large integer value (in billions).\n",
    "\n",
    "```python\n",
    "# Exercise 29\n",
    "```"
   ]
  },
  {
   "cell_type": "code",
   "execution_count": 81,
   "id": "3ae7cdbd-1e35-45fc-869c-7293d451d760",
   "metadata": {},
   "outputs": [
    {
     "name": "stdout",
     "output_type": "stream",
     "text": [
      "4000000000 <class 'int'>\n"
     ]
    }
   ],
   "source": [
    "population = 4 * (10 ** 9) #If it's 4.0, there would be a decimal and a zero thereafter.\n",
    "print(population, type(population))"
   ]
  },
  {
   "cell_type": "markdown",
   "id": "a7d60f67-839a-4f72-997b-bf128382830f",
   "metadata": {
    "id": "9fb19f0d"
   },
   "source": [
    "---\n",
    "\n",
    "### Exercise 30:\n",
    "Use a variable to store the result of raising `2` to the power of `8`.\n",
    "\n",
    "```python\n",
    "# Exercise 30\n",
    "```"
   ]
  },
  {
   "cell_type": "code",
   "execution_count": 83,
   "id": "13df2f02-ed97-4399-b5a0-d5419c7eb32f",
   "metadata": {},
   "outputs": [
    {
     "name": "stdout",
     "output_type": "stream",
     "text": [
      "256\n"
     ]
    }
   ],
   "source": [
    "res = 2** 8\n",
    "print(res)"
   ]
  },
  {
   "cell_type": "markdown",
   "id": "c5bf92b4-b797-4743-9cda-709a9b42a126",
   "metadata": {
    "id": "9fb19f0d"
   },
   "source": [
    "---\n",
    "\n",
    "### Exercise 31:\n",
    "Assign a list of your favorite fruits to a variable `fruits`.\n",
    "\n",
    "```python\n",
    "# Exercise 31\n",
    "```"
   ]
  },
  {
   "cell_type": "code",
   "execution_count": 86,
   "id": "8290c40e-1632-40eb-8c30-c92979d01a28",
   "metadata": {},
   "outputs": [
    {
     "name": "stdout",
     "output_type": "stream",
     "text": [
      "['mango', 'watermelon', 'grapes', 'bananas', 'almond nuts'] <class 'list'>\n"
     ]
    }
   ],
   "source": [
    "fruits = [\"mango\", \"watermelon\", \"grapes\", \"bananas\", \"almond nuts\"]\n",
    "print(fruits, type(fruits))"
   ]
  },
  {
   "cell_type": "markdown",
   "id": "0d92247f-985f-4905-aff0-71abca4c705c",
   "metadata": {
    "id": "9fb19f0d"
   },
   "source": [
    "---\n",
    "\n",
    "### Exercise 32:\n",
    "Assign a tuple of three numbers to a variable `coordinates`.\n",
    "\n",
    "```python\n",
    "# Exercise 32\n",
    "```"
   ]
  },
  {
   "cell_type": "code",
   "execution_count": 88,
   "id": "4fa69006-9288-4808-99b9-625b502d5101",
   "metadata": {},
   "outputs": [
    {
     "name": "stdout",
     "output_type": "stream",
     "text": [
      "(1, 2, 3) <class 'tuple'>\n"
     ]
    }
   ],
   "source": [
    "coordinates = (1, 2, 3)\n",
    "print(coordinates, type(coordinates))"
   ]
  },
  {
   "cell_type": "markdown",
   "id": "610f25c2-9c7b-4cb5-b470-b47633d0e7ab",
   "metadata": {
    "id": "9fb19f0d"
   },
   "source": [
    "---\n",
    "\n",
    "### Exercise 33:\n",
    "Assign a dictionary with keys `name` and `age` to a variable `person`.\n",
    "\n",
    "```python\n",
    "# Exercise 33\n",
    "```"
   ]
  },
  {
   "cell_type": "code",
   "execution_count": 128,
   "id": "278486fe-e8ed-4906-8415-f3e00e99b9c8",
   "metadata": {},
   "outputs": [
    {
     "name": "stdout",
     "output_type": "stream",
     "text": [
      "{'new_name': ['Kutlo Kejang', 'Swita Kejang'], 'new_age': [23, 61]} <class 'dict'>\n"
     ]
    }
   ],
   "source": [
    "person = {\"new_name\": [\"Kutlo Kejang\", \"Swita Kejang\"],\n",
    "          \"new_age\": [23, 61]}\n",
    "print(person, type(person))"
   ]
  },
  {
   "cell_type": "markdown",
   "id": "99aaca4b-ab7c-4d5b-8ee5-68508c11f3b7",
   "metadata": {
    "id": "9fb19f0d"
   },
   "source": [
    "---\n",
    "\n",
    "### Exercise 34:\n",
    "Use variables to store the sum of two floating-point numbers.\n",
    "\n",
    "```python\n",
    "# Exercise 34\n",
    "```"
   ]
  },
  {
   "cell_type": "code",
   "execution_count": 96,
   "id": "841aa8b8-e0b0-49ad-9c87-047a6cf52369",
   "metadata": {},
   "outputs": [
    {
     "name": "stdout",
     "output_type": "stream",
     "text": [
      "13.2 <class 'float'>\n"
     ]
    }
   ],
   "source": [
    "sums = 6.6 + 6.6\n",
    "print(sums, type(sums))"
   ]
  },
  {
   "cell_type": "markdown",
   "id": "562ad71d-196a-4b9d-b2f5-8af9cdef16a8",
   "metadata": {
    "id": "9fb19f0d"
   },
   "source": [
    "---\n",
    "\n",
    "### Exercise 35:\n",
    "Create a variable `is_sunny` and assign it the result of a comparison `10 > 5`.\n",
    "\n",
    "```python\n",
    "# Exercise 35\n",
    "```"
   ]
  },
  {
   "cell_type": "code",
   "execution_count": 97,
   "id": "9735f66a-27d2-4321-a886-b3996374e95b",
   "metadata": {},
   "outputs": [
    {
     "name": "stdout",
     "output_type": "stream",
     "text": [
      "True <class 'bool'>\n"
     ]
    }
   ],
   "source": [
    "is_sunny = 10>5\n",
    "print(is_sunny, type(is_sunny))"
   ]
  },
  {
   "cell_type": "markdown",
   "id": "8219852a-2c39-4043-b675-855507ea0870",
   "metadata": {
    "id": "9fb19f0d"
   },
   "source": [
    "---\n",
    "\n",
    "### Exercise 36:\n",
    "Assign a string and an integer to two different variables, then print both on one line.\n",
    "\n",
    "```python\n",
    "# Exercise 36\n",
    "```"
   ]
  },
  {
   "cell_type": "code",
   "execution_count": 98,
   "id": "80a8dac3-9092-4e6b-a349-abd701dd5ada",
   "metadata": {},
   "outputs": [
    {
     "name": "stdout",
     "output_type": "stream",
     "text": [
      "Gaone is 23 years old.\n"
     ]
    }
   ],
   "source": [
    "new_string = \"Gaone\"\n",
    "new_int = 23\n",
    "print(new_string, \"is\", new_int, \"years old.\")"
   ]
  },
  {
   "cell_type": "markdown",
   "id": "284ddb91-64fe-455f-8365-cfa02241e1a2",
   "metadata": {
    "id": "9fb19f0d"
   },
   "source": [
    "---\n",
    "\n",
    "### Exercise 37:\n",
    "Reassign a variable that originally held a number to a boolean value.\n",
    "\n",
    "```python\n",
    "# Exercise 37\n",
    "```"
   ]
  },
  {
   "cell_type": "code",
   "execution_count": 103,
   "id": "97f87af6-17af-4bd3-aa37-3d6030b53f63",
   "metadata": {},
   "outputs": [
    {
     "name": "stdout",
     "output_type": "stream",
     "text": [
      "True <class 'bool'>\n",
      "1 <class 'bool'>\n"
     ]
    }
   ],
   "source": [
    "t = 9989\n",
    "t = bool(t)\n",
    "print(t, type(t))\n",
    "print(int(t), type(t)) #Changes the True to 1. If it was False, it would be 0. "
   ]
  },
  {
   "cell_type": "markdown",
   "id": "c857a0a8-9f0b-4e74-8485-eb3bb81e7621",
   "metadata": {
    "id": "9fb19f0d"
   },
   "source": [
    "---\n",
    "\n",
    "### Exercise 38:\n",
    "Create a variable `is_weekend` and assign it the result of `False`.\n",
    "\n",
    "```python\n",
    "# Exercise 38\n",
    "```"
   ]
  },
  {
   "cell_type": "code",
   "execution_count": 108,
   "id": "912f9ac9-a981-4042-9564-e805258aeb7d",
   "metadata": {},
   "outputs": [
    {
     "name": "stdout",
     "output_type": "stream",
     "text": [
      "False\n"
     ]
    }
   ],
   "source": [
    "is_weekend = False #No F or FALSE\n",
    "print(is_weekend)"
   ]
  },
  {
   "cell_type": "markdown",
   "id": "2bdc9698-5de4-47e2-b111-d9e27038ef75",
   "metadata": {
    "id": "9fb19f0d"
   },
   "source": [
    "---\n",
    "\n",
    "### Exercise 39:\n",
    "Assign a multi-line string to a variable `description`.\n",
    "\n",
    "```python\n",
    "# Exercise 39\n",
    "```"
   ]
  },
  {
   "cell_type": "code",
   "execution_count": 113,
   "id": "b7ab71ec-97ae-463a-bcd7-5ff7e9f377c3",
   "metadata": {},
   "outputs": [
    {
     "name": "stdout",
     "output_type": "stream",
     "text": [
      "Hello, there! \n",
      "I am Kutlo. \n",
      "Who are you? <class 'str'>\n"
     ]
    }
   ],
   "source": [
    "description = '''Hello, there! \n",
    "I am Kutlo. \n",
    "Who are you?'''\n",
    "print(description, type(description))"
   ]
  },
  {
   "cell_type": "markdown",
   "id": "2f8bd56f-df09-41d2-9e42-0b79fd6aaf0e",
   "metadata": {
    "id": "9fb19f0d"
   },
   "source": [
    "---\n",
    "\n",
    "### Exercise 40:\n",
    "Use variables to store the result of the absolute value of `-25`.\n",
    "\n",
    "```python\n",
    "# Exercise 40\n",
    "```"
   ]
  },
  {
   "cell_type": "code",
   "execution_count": 114,
   "id": "8e51584d-333d-48b4-9013-0dfa5853ef74",
   "metadata": {},
   "outputs": [
    {
     "name": "stdout",
     "output_type": "stream",
     "text": [
      "25\n"
     ]
    }
   ],
   "source": [
    "abs_val = abs(-25)\n",
    "print(abs_val)"
   ]
  },
  {
   "cell_type": "markdown",
   "id": "ada6c0e5-723a-4bdd-ba77-3d07e3331f47",
   "metadata": {
    "id": "9fb19f0d"
   },
   "source": [
    "---\n",
    "\n",
    "### Exercise 41:\n",
    "Assign the result of a floor division `100 // 6` to a variable `floor_div_result`.\n",
    "\n",
    "```python\n",
    "# Exercise 41\n",
    "```"
   ]
  },
  {
   "cell_type": "code",
   "execution_count": 115,
   "id": "6b77af0f-3bca-4fd5-8879-873ed6d21fb1",
   "metadata": {},
   "outputs": [
    {
     "name": "stdout",
     "output_type": "stream",
     "text": [
      "16\n"
     ]
    }
   ],
   "source": [
    "floor_div_result = 100 // 6\n",
    "print(floor_div_result)"
   ]
  },
  {
   "cell_type": "markdown",
   "id": "b6569ed3-59b6-4d9b-bb60-4910dc5b060b",
   "metadata": {
    "id": "9fb19f0d"
   },
   "source": [
    "---\n",
    "\n",
    "### Exercise 42:\n",
    "Assign the result of adding a floating-point number to an integer to a variable `mixed_sum`.\n",
    "\n",
    "```python\n",
    "# Exercise 42\n",
    "```"
   ]
  },
  {
   "cell_type": "code",
   "execution_count": 116,
   "id": "1ce9a0f1-6a37-40c9-b9cb-f3b724ed5c6e",
   "metadata": {},
   "outputs": [
    {
     "name": "stdout",
     "output_type": "stream",
     "text": [
      "15.7\n"
     ]
    }
   ],
   "source": [
    "mixed_sum = 6.7 + 9\n",
    "print(mixed_sum)"
   ]
  },
  {
   "cell_type": "markdown",
   "id": "a61c47c0-d9b1-4e41-8169-4b7207c8793e",
   "metadata": {
    "id": "9fb19f0d"
   },
   "source": [
    "---\n",
    "\n",
    "\n",
    "### Exercise 43:\n",
    "Assign a boolean value based on the comparison of two variables `a = 10` and `b = 15`.\n",
    "\n",
    "```python\n",
    "# Exercise 43\n",
    "```"
   ]
  },
  {
   "cell_type": "code",
   "execution_count": 130,
   "id": "6c81213c-b5a7-4b6c-87c2-f72f4b0c5926",
   "metadata": {},
   "outputs": [
    {
     "name": "stdout",
     "output_type": "stream",
     "text": [
      "True\n",
      "False\n"
     ]
    }
   ],
   "source": [
    "a = 10\n",
    "b = 15\n",
    "largest_num = b>a\n",
    "other_num = a>b\n",
    "print(largest_num)\n",
    "print(other_num)"
   ]
  },
  {
   "cell_type": "markdown",
   "id": "618a061c-9203-4a99-af5a-aebb8b6d731b",
   "metadata": {
    "id": "9fb19f0d"
   },
   "source": [
    "---\n",
    "\n",
    "### Exercise 44:\n",
    "Assign a long sentence to a variable and count its characters using `len()`.\n",
    "\n",
    "```python\n",
    "# Exercise 44\n",
    "```"
   ]
  },
  {
   "cell_type": "code",
   "execution_count": 124,
   "id": "3415e1f2-9b01-4bc6-b572-5e1995609426",
   "metadata": {},
   "outputs": [
    {
     "data": {
      "text/plain": [
       "51"
      ]
     },
     "execution_count": 124,
     "metadata": {},
     "output_type": "execute_result"
    }
   ],
   "source": [
    "sen = \"I am here learning the Python Programming language.\"\n",
    "len(sen)"
   ]
  },
  {
   "cell_type": "markdown",
   "id": "ed855737-756d-4c83-9ecc-384937e20427",
   "metadata": {
    "id": "9fb19f0d"
   },
   "source": [
    "---\n",
    "\n",
    "### Exercise 45:\n",
    "Assign a fractional result `7 / 3` to a variable `division_result`.\n",
    "\n",
    "```python\n",
    "# Exercise 45\n",
    "```"
   ]
  },
  {
   "cell_type": "code",
   "execution_count": 125,
   "id": "99e360d6-65a0-4225-895a-2bf8c5647e46",
   "metadata": {},
   "outputs": [
    {
     "name": "stdout",
     "output_type": "stream",
     "text": [
      "2.3333333333333335 <class 'float'>\n"
     ]
    }
   ],
   "source": [
    "division_result = 7/3\n",
    "print(division_result, type(division_result))"
   ]
  },
  {
   "cell_type": "markdown",
   "id": "268bc4bd-8bc4-4051-b35f-f6365b2fb710",
   "metadata": {
    "id": "9fb19f0d"
   },
   "source": [
    "---\n",
    "\n",
    "### Exercise 46:\n",
    "Create a variable `speed` and assign it the value of 100 kilometers per hour.\n",
    "\n",
    "```python\n",
    "# Exercise 46\n",
    "```"
   ]
  },
  {
   "cell_type": "code",
   "execution_count": 136,
   "id": "19177d85-fe4c-41fb-b5b1-b44e0b3b5ccb",
   "metadata": {},
   "outputs": [
    {
     "name": "stdout",
     "output_type": "stream",
     "text": [
      "100 kilometers per hour\n"
     ]
    }
   ],
   "source": [
    "speed = [100, \"kilometers per hour\"]\n",
    "print(speed[0], speed[1])"
   ]
  },
  {
   "cell_type": "markdown",
   "id": "03e79412-e0b9-439e-b853-0b2b6c060f3e",
   "metadata": {
    "id": "9fb19f0d"
   },
   "source": [
    "---\n",
    "\n",
    "### Exercise 47:\n",
    "Assign a multi-variable equation like `y = 3x + 5` where `x = 4` to a variable `y`.\n",
    "\n",
    "```python\n",
    "# Exercise 47\n",
    "```"
   ]
  },
  {
   "cell_type": "code",
   "execution_count": 143,
   "id": "70c1240d-664e-405b-8d68-0939a07dbf3b",
   "metadata": {},
   "outputs": [
    {
     "name": "stdout",
     "output_type": "stream",
     "text": [
      "17\n"
     ]
    }
   ],
   "source": [
    "x = 4; y = (3*x) + 5\n",
    "print(y)"
   ]
  },
  {
   "cell_type": "markdown",
   "id": "e70b2213-ded4-46a5-ad46-fb9f83091aba",
   "metadata": {
    "id": "9fb19f0d"
   },
   "source": [
    "---\n",
    "\n",
    "### Exercise 48:\n",
    "Use variables to calculate and store the average of three numbers.\n",
    "\n",
    "```python\n",
    "# Exercise 48\n",
    "```\n",
    "\n",
    "****"
   ]
  },
  {
   "cell_type": "code",
   "execution_count": 150,
   "id": "0d8933ab-e372-4394-a069-3b6f9daa7d65",
   "metadata": {},
   "outputs": [
    {
     "name": "stdout",
     "output_type": "stream",
     "text": [
      "0.8966666666666667\n"
     ]
    }
   ],
   "source": [
    "import statistics\n",
    "\n",
    "g = [7, 0.99, -5.3]\n",
    "av_of_nums = statistics.mean(g)\n",
    "print(av_of_nums)"
   ]
  }
 ],
 "metadata": {
  "colab": {
   "provenance": []
  },
  "kernelspec": {
   "display_name": "Python [conda env:base] *",
   "language": "python",
   "name": "conda-base-py"
  },
  "language_info": {
   "codemirror_mode": {
    "name": "ipython",
    "version": 3
   },
   "file_extension": ".py",
   "mimetype": "text/x-python",
   "name": "python",
   "nbconvert_exporter": "python",
   "pygments_lexer": "ipython3",
   "version": "3.13.5"
  }
 },
 "nbformat": 4,
 "nbformat_minor": 5
}
